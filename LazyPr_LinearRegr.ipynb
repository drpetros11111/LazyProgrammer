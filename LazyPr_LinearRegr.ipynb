{
  "nbformat": 4,
  "nbformat_minor": 0,
  "metadata": {
    "colab": {
      "provenance": [],
      "authorship_tag": "ABX9TyNE5exEat+2l/rd9+tINZKU",
      "include_colab_link": true
    },
    "kernelspec": {
      "name": "python3",
      "display_name": "Python 3"
    },
    "language_info": {
      "name": "python"
    }
  },
  "cells": [
    {
      "cell_type": "markdown",
      "metadata": {
        "id": "view-in-github",
        "colab_type": "text"
      },
      "source": [
        "<a href=\"https://colab.research.google.com/github/drpetros11111/LazyProgrammer/blob/LP_Regression/LazyPr_LinearRegr.ipynb\" target=\"_parent\"><img src=\"https://colab.research.google.com/assets/colab-badge.svg\" alt=\"Open In Colab\"/></a>"
      ]
    },
    {
      "cell_type": "markdown",
      "source": [
        "# 1. Creating the Model in Tensorflow"
      ],
      "metadata": {
        "id": "1Hde5NPbbBEl"
      }
    },
    {
      "source": [
        "import tensorflow as tf\n",
        "\n",
        "# Load in the data\n",
        "from sklearn.datasets import load_breast_cancer # import sklearn\n",
        "# load the data\n",
        "data = load_breast_cancer()\n",
        "\n",
        "# check the type of 'data'\n",
        "type(data)\n",
        "#sklearn.utils.Bunch\n",
        "\n",
        "# note: it is a Bunch object\n",
        "# this basically acts like a dictionary where you can treat the keys like attributes\n"
      ],
      "cell_type": "code",
      "metadata": {
        "colab": {
          "base_uri": "https://localhost:8080/",
          "height": 185
        },
        "id": "YVFJCPMHY8Um",
        "outputId": "b0b1912a-a9ce-40ca-c65b-add0c002e1ce"
      },
      "execution_count": 16,
      "outputs": [
        {
          "output_type": "execute_result",
          "data": {
            "text/plain": [
              "sklearn.utils._bunch.Bunch"
            ],
            "text/html": [
              "<div style=\"max-width:800px; border: 1px solid var(--colab-border-color);\"><style>\n",
              "      pre.function-repr-contents {\n",
              "        overflow-x: auto;\n",
              "        padding: 8px 12px;\n",
              "        max-height: 500px;\n",
              "      }\n",
              "\n",
              "      pre.function-repr-contents.function-repr-contents-collapsed {\n",
              "        cursor: pointer;\n",
              "        max-height: 100px;\n",
              "      }\n",
              "    </style>\n",
              "    <pre style=\"white-space: initial; background:\n",
              "         var(--colab-secondary-surface-color); padding: 8px 12px;\n",
              "         border-bottom: 1px solid var(--colab-border-color);\"><b>sklearn.utils._bunch.Bunch</b><br/>def __init__(**kwargs)</pre><pre class=\"function-repr-contents function-repr-contents-collapsed\" style=\"\"><a class=\"filepath\" style=\"display:none\" href=\"#\">/usr/local/lib/python3.10/dist-packages/sklearn/utils/_bunch.py</a>Container object exposing keys as attributes.\n",
              "\n",
              "Bunch objects are sometimes used as an output for functions and methods.\n",
              "They extend dictionaries by enabling values to be accessed by key,\n",
              "`bunch[&quot;value_key&quot;]`, or by an attribute, `bunch.value_key`.\n",
              "\n",
              "Examples\n",
              "--------\n",
              "&gt;&gt;&gt; from sklearn.utils import Bunch\n",
              "&gt;&gt;&gt; b = Bunch(a=1, b=2)\n",
              "&gt;&gt;&gt; b[&#x27;b&#x27;]\n",
              "2\n",
              "&gt;&gt;&gt; b.b\n",
              "2\n",
              "&gt;&gt;&gt; b.a = 3\n",
              "&gt;&gt;&gt; b[&#x27;a&#x27;]\n",
              "3\n",
              "&gt;&gt;&gt; b.c = 6\n",
              "&gt;&gt;&gt; b[&#x27;c&#x27;]\n",
              "6</pre>\n",
              "      <script>\n",
              "      if (google.colab.kernel.accessAllowed && google.colab.files && google.colab.files.view) {\n",
              "        for (const element of document.querySelectorAll('.filepath')) {\n",
              "          element.style.display = 'block'\n",
              "          element.onclick = (event) => {\n",
              "            event.preventDefault();\n",
              "            event.stopPropagation();\n",
              "            google.colab.files.view(element.textContent, 4);\n",
              "          };\n",
              "        }\n",
              "      }\n",
              "      for (const element of document.querySelectorAll('.function-repr-contents')) {\n",
              "        element.onclick = (event) => {\n",
              "          event.preventDefault();\n",
              "          event.stopPropagation();\n",
              "          element.classList.toggle('function-repr-contents-collapsed');\n",
              "        };\n",
              "      }\n",
              "      </script>\n",
              "      </div>"
            ]
          },
          "metadata": {},
          "execution_count": 16
        }
      ]
    },
    {
      "cell_type": "code",
      "source": [
        "data.keys()\n",
        "#dict_keys(['data', 'target', 'target_names', 'DESCR', 'feature_names', 'filename'])\n",
        "\n",
        "# 'data' (the attribute) means the input data\n",
        "data.data.shape\n",
        "\n",
        "# it has 569 samples, 30 features\n",
        "#(569, 30)\n"
      ],
      "metadata": {
        "colab": {
          "base_uri": "https://localhost:8080/"
        },
        "id": "Uk4Chl5zbYJu",
        "outputId": "30956968-c8d6-48b1-bbc1-a6b364ddf9c7"
      },
      "execution_count": 17,
      "outputs": [
        {
          "output_type": "execute_result",
          "data": {
            "text/plain": [
              "(569, 30)"
            ]
          },
          "metadata": {},
          "execution_count": 17
        }
      ]
    },
    {
      "cell_type": "code",
      "source": [
        "# 'targets'\n",
        "data.target\n",
        "\n",
        "# note how the targets are just 0s and 1s"
      ],
      "metadata": {
        "colab": {
          "base_uri": "https://localhost:8080/"
        },
        "id": "OsFvQ-FJbk9R",
        "outputId": "97de4932-914a-4d87-801e-a1148ff163f8"
      },
      "execution_count": 19,
      "outputs": [
        {
          "output_type": "execute_result",
          "data": {
            "text/plain": [
              "array([0, 0, 0, 0, 0, 0, 0, 0, 0, 0, 0, 0, 0, 0, 0, 0, 0, 0, 0, 1, 1, 1,\n",
              "       0, 0, 0, 0, 0, 0, 0, 0, 0, 0, 0, 0, 0, 0, 0, 1, 0, 0, 0, 0, 0, 0,\n",
              "       0, 0, 1, 0, 1, 1, 1, 1, 1, 0, 0, 1, 0, 0, 1, 1, 1, 1, 0, 1, 0, 0,\n",
              "       1, 1, 1, 1, 0, 1, 0, 0, 1, 0, 1, 0, 0, 1, 1, 1, 0, 0, 1, 0, 0, 0,\n",
              "       1, 1, 1, 0, 1, 1, 0, 0, 1, 1, 1, 0, 0, 1, 1, 1, 1, 0, 1, 1, 0, 1,\n",
              "       1, 1, 1, 1, 1, 1, 1, 0, 0, 0, 1, 0, 0, 1, 1, 1, 0, 0, 1, 0, 1, 0,\n",
              "       0, 1, 0, 0, 1, 1, 0, 1, 1, 0, 1, 1, 1, 1, 0, 1, 1, 1, 1, 1, 1, 1,\n",
              "       1, 1, 0, 1, 1, 1, 1, 0, 0, 1, 0, 1, 1, 0, 0, 1, 1, 0, 0, 1, 1, 1,\n",
              "       1, 0, 1, 1, 0, 0, 0, 1, 0, 1, 0, 1, 1, 1, 0, 1, 1, 0, 0, 1, 0, 0,\n",
              "       0, 0, 1, 0, 0, 0, 1, 0, 1, 0, 1, 1, 0, 1, 0, 0, 0, 0, 1, 1, 0, 0,\n",
              "       1, 1, 1, 0, 1, 1, 1, 1, 1, 0, 0, 1, 1, 0, 1, 1, 0, 0, 1, 0, 1, 1,\n",
              "       1, 1, 0, 1, 1, 1, 1, 1, 0, 1, 0, 0, 0, 0, 0, 0, 0, 0, 0, 0, 0, 0,\n",
              "       0, 0, 1, 1, 1, 1, 1, 1, 0, 1, 0, 1, 1, 0, 1, 1, 0, 1, 0, 0, 1, 1,\n",
              "       1, 1, 1, 1, 1, 1, 1, 1, 1, 1, 1, 0, 1, 1, 0, 1, 0, 1, 1, 1, 1, 1,\n",
              "       1, 1, 1, 1, 1, 1, 1, 1, 1, 0, 1, 1, 1, 0, 1, 0, 1, 1, 1, 1, 0, 0,\n",
              "       0, 1, 1, 1, 1, 0, 1, 0, 1, 0, 1, 1, 1, 0, 1, 1, 1, 1, 1, 1, 1, 0,\n",
              "       0, 0, 1, 1, 1, 1, 1, 1, 1, 1, 1, 1, 1, 0, 0, 1, 0, 0, 0, 1, 0, 0,\n",
              "       1, 1, 1, 1, 1, 0, 1, 1, 1, 1, 1, 0, 1, 1, 1, 0, 1, 1, 0, 0, 1, 1,\n",
              "       1, 1, 1, 1, 0, 1, 1, 1, 1, 1, 1, 1, 0, 1, 1, 1, 1, 1, 0, 1, 1, 0,\n",
              "       1, 1, 1, 1, 1, 1, 1, 1, 1, 1, 1, 1, 0, 1, 0, 0, 1, 0, 1, 1, 1, 1,\n",
              "       1, 0, 1, 1, 0, 1, 0, 1, 1, 0, 1, 0, 1, 1, 1, 1, 1, 1, 1, 1, 0, 0,\n",
              "       1, 1, 1, 1, 1, 1, 0, 1, 1, 1, 1, 1, 1, 1, 1, 1, 1, 0, 1, 1, 1, 1,\n",
              "       1, 1, 1, 0, 1, 0, 1, 1, 0, 1, 1, 1, 1, 1, 0, 0, 1, 0, 1, 0, 1, 1,\n",
              "       1, 1, 1, 0, 1, 1, 0, 1, 0, 1, 0, 0, 1, 1, 1, 0, 1, 1, 1, 1, 1, 1,\n",
              "       1, 1, 1, 1, 1, 0, 1, 0, 0, 1, 1, 1, 1, 1, 1, 1, 1, 1, 1, 1, 1, 1,\n",
              "       1, 1, 1, 1, 1, 1, 1, 1, 1, 1, 1, 1, 0, 0, 0, 0, 0, 0, 1])"
            ]
          },
          "metadata": {},
          "execution_count": 19
        }
      ]
    },
    {
      "source": [
        "import numpy as np # import numpy\n",
        "\n",
        "# their meaning is not lost\n",
        "\n",
        "data.target_names"
      ],
      "cell_type": "code",
      "metadata": {
        "colab": {
          "base_uri": "https://localhost:8080/"
        },
        "id": "R9ujZCyNZJXr",
        "outputId": "5c9e2c83-467b-4702-8177-6b747c69578f"
      },
      "execution_count": 21,
      "outputs": [
        {
          "output_type": "execute_result",
          "data": {
            "text/plain": [
              "array(['malignant', 'benign'], dtype='<U9')"
            ]
          },
          "metadata": {},
          "execution_count": 21
        }
      ]
    },
    {
      "cell_type": "code",
      "source": [
        "np.array(['malignant', 'benign'], dtype='<U9') # call array function from np\n",
        "# there are also 569 corresponding targets\n",
        "data.target.shape"
      ],
      "metadata": {
        "colab": {
          "base_uri": "https://localhost:8080/"
        },
        "id": "bCo4IVGXcEZ2",
        "outputId": "e008f039-8d8b-447b-ed72-58e65e3e8711"
      },
      "execution_count": 22,
      "outputs": [
        {
          "output_type": "execute_result",
          "data": {
            "text/plain": [
              "(569,)"
            ]
          },
          "metadata": {},
          "execution_count": 22
        }
      ]
    },
    {
      "cell_type": "code",
      "source": [
        "# normally we would put all of our imports at the top\n",
        "# but this lets us tell a story\n",
        "from sklearn.model_selection import train_test_split\n",
        "\n",
        "\n",
        "# split the data into train and test sets\n",
        "# this lets us simulate how our model will perform in the future\n",
        "X_train, X_test, y_train, y_test = train_test_split(data.data, data.target, test_size=0.33)\n",
        "N, D = X_train.shape\n",
        "\n",
        "# Scale the data\n",
        "# you'll learn why scaling is needed in a later course\n",
        "from sklearn.preprocessing import StandardScaler\n",
        "\n",
        "scaler = StandardScaler()\n",
        "X_train = scaler.fit_transform(X_train)\n",
        "X_test = scaler.transform(X_test)\n",
        "\n",
        "# Now all the fun Tensorflow stuff\n",
        "# Build the model\n",
        "\n",
        "model = tf.keras.models.Sequential([\n",
        "  tf.keras.layers.Input(shape=(D,)),\n",
        "  tf.keras.layers.Dense(1, activation='sigmoid')\n",
        "])\n",
        "\n",
        "# Alternatively, you can do:\n",
        "# model = tf.keras.models.Sequential()\n",
        "# model.add(tf.keras.layers.Dense(1, input_shape=(D,), activation='sigmoid'))\n",
        "\n",
        "model.compile(optimizer='adam',\n",
        "              loss='binary_crossentropy',\n",
        "              metrics=['accuracy'])\n",
        "\n",
        "\n",
        "# Train the model\n",
        "r = model.fit(X_train, y_train, validation_data=(X_test, y_test), epochs=100)\n",
        "\n",
        "\n",
        "# Evaluate the model - evaluate() returns loss and accuracy\n",
        "print(\"Train score:\", model.evaluate(X_train, y_train))\n",
        "print(\"Test score:\", model.evaluate(X_test, y_test))"
      ],
      "metadata": {
        "colab": {
          "base_uri": "https://localhost:8080/"
        },
        "id": "OvZJlpggZUuy",
        "outputId": "48265e91-92b5-4a49-d324-8cfcd89dd3ab"
      },
      "execution_count": 6,
      "outputs": [
        {
          "output_type": "stream",
          "name": "stdout",
          "text": [
            "Epoch 1/100\n",
            "\u001b[1m12/12\u001b[0m \u001b[32m━━━━━━━━━━━━━━━━━━━━\u001b[0m\u001b[37m\u001b[0m \u001b[1m2s\u001b[0m 47ms/step - accuracy: 0.7194 - loss: 0.5773 - val_accuracy: 0.7819 - val_loss: 0.4990\n",
            "Epoch 2/100\n",
            "\u001b[1m12/12\u001b[0m \u001b[32m━━━━━━━━━━━━━━━━━━━━\u001b[0m\u001b[37m\u001b[0m \u001b[1m0s\u001b[0m 7ms/step - accuracy: 0.7686 - loss: 0.5046 - val_accuracy: 0.8298 - val_loss: 0.4540\n",
            "Epoch 3/100\n",
            "\u001b[1m12/12\u001b[0m \u001b[32m━━━━━━━━━━━━━━━━━━━━\u001b[0m\u001b[37m\u001b[0m \u001b[1m0s\u001b[0m 18ms/step - accuracy: 0.7589 - loss: 0.5040 - val_accuracy: 0.8617 - val_loss: 0.4158\n",
            "Epoch 4/100\n",
            "\u001b[1m12/12\u001b[0m \u001b[32m━━━━━━━━━━━━━━━━━━━━\u001b[0m\u001b[37m\u001b[0m \u001b[1m1s\u001b[0m 12ms/step - accuracy: 0.8249 - loss: 0.4305 - val_accuracy: 0.8989 - val_loss: 0.3836\n",
            "Epoch 5/100\n",
            "\u001b[1m12/12\u001b[0m \u001b[32m━━━━━━━━━━━━━━━━━━━━\u001b[0m\u001b[37m\u001b[0m \u001b[1m0s\u001b[0m 8ms/step - accuracy: 0.8434 - loss: 0.3876 - val_accuracy: 0.9096 - val_loss: 0.3568\n",
            "Epoch 6/100\n",
            "\u001b[1m12/12\u001b[0m \u001b[32m━━━━━━━━━━━━━━━━━━━━\u001b[0m\u001b[37m\u001b[0m \u001b[1m0s\u001b[0m 8ms/step - accuracy: 0.8607 - loss: 0.3628 - val_accuracy: 0.9149 - val_loss: 0.3333\n",
            "Epoch 7/100\n",
            "\u001b[1m12/12\u001b[0m \u001b[32m━━━━━━━━━━━━━━━━━━━━\u001b[0m\u001b[37m\u001b[0m \u001b[1m0s\u001b[0m 19ms/step - accuracy: 0.8665 - loss: 0.3508 - val_accuracy: 0.9255 - val_loss: 0.3134\n",
            "Epoch 8/100\n",
            "\u001b[1m12/12\u001b[0m \u001b[32m━━━━━━━━━━━━━━━━━━━━\u001b[0m\u001b[37m\u001b[0m \u001b[1m1s\u001b[0m 17ms/step - accuracy: 0.8669 - loss: 0.3426 - val_accuracy: 0.9362 - val_loss: 0.2959\n",
            "Epoch 9/100\n",
            "\u001b[1m12/12\u001b[0m \u001b[32m━━━━━━━━━━━━━━━━━━━━\u001b[0m\u001b[37m\u001b[0m \u001b[1m0s\u001b[0m 19ms/step - accuracy: 0.8672 - loss: 0.3152 - val_accuracy: 0.9362 - val_loss: 0.2802\n",
            "Epoch 10/100\n",
            "\u001b[1m12/12\u001b[0m \u001b[32m━━━━━━━━━━━━━━━━━━━━\u001b[0m\u001b[37m\u001b[0m \u001b[1m1s\u001b[0m 16ms/step - accuracy: 0.8666 - loss: 0.3148 - val_accuracy: 0.9362 - val_loss: 0.2667\n",
            "Epoch 11/100\n",
            "\u001b[1m12/12\u001b[0m \u001b[32m━━━━━━━━━━━━━━━━━━━━\u001b[0m\u001b[37m\u001b[0m \u001b[1m0s\u001b[0m 19ms/step - accuracy: 0.8910 - loss: 0.3121 - val_accuracy: 0.9362 - val_loss: 0.2548\n",
            "Epoch 12/100\n",
            "\u001b[1m12/12\u001b[0m \u001b[32m━━━━━━━━━━━━━━━━━━━━\u001b[0m\u001b[37m\u001b[0m \u001b[1m1s\u001b[0m 10ms/step - accuracy: 0.8914 - loss: 0.2940 - val_accuracy: 0.9362 - val_loss: 0.2440\n",
            "Epoch 13/100\n",
            "\u001b[1m12/12\u001b[0m \u001b[32m━━━━━━━━━━━━━━━━━━━━\u001b[0m\u001b[37m\u001b[0m \u001b[1m0s\u001b[0m 18ms/step - accuracy: 0.9130 - loss: 0.2626 - val_accuracy: 0.9415 - val_loss: 0.2341\n",
            "Epoch 14/100\n",
            "\u001b[1m12/12\u001b[0m \u001b[32m━━━━━━━━━━━━━━━━━━━━\u001b[0m\u001b[37m\u001b[0m \u001b[1m0s\u001b[0m 8ms/step - accuracy: 0.9108 - loss: 0.2699 - val_accuracy: 0.9415 - val_loss: 0.2253\n",
            "Epoch 15/100\n",
            "\u001b[1m12/12\u001b[0m \u001b[32m━━━━━━━━━━━━━━━━━━━━\u001b[0m\u001b[37m\u001b[0m \u001b[1m0s\u001b[0m 8ms/step - accuracy: 0.9213 - loss: 0.2559 - val_accuracy: 0.9468 - val_loss: 0.2173\n",
            "Epoch 16/100\n",
            "\u001b[1m12/12\u001b[0m \u001b[32m━━━━━━━━━━━━━━━━━━━━\u001b[0m\u001b[37m\u001b[0m \u001b[1m0s\u001b[0m 5ms/step - accuracy: 0.9211 - loss: 0.2459 - val_accuracy: 0.9574 - val_loss: 0.2099\n",
            "Epoch 17/100\n",
            "\u001b[1m12/12\u001b[0m \u001b[32m━━━━━━━━━━━━━━━━━━━━\u001b[0m\u001b[37m\u001b[0m \u001b[1m0s\u001b[0m 4ms/step - accuracy: 0.9307 - loss: 0.2307 - val_accuracy: 0.9574 - val_loss: 0.2032\n",
            "Epoch 18/100\n",
            "\u001b[1m12/12\u001b[0m \u001b[32m━━━━━━━━━━━━━━━━━━━━\u001b[0m\u001b[37m\u001b[0m \u001b[1m0s\u001b[0m 4ms/step - accuracy: 0.9407 - loss: 0.2112 - val_accuracy: 0.9574 - val_loss: 0.1969\n",
            "Epoch 19/100\n",
            "\u001b[1m12/12\u001b[0m \u001b[32m━━━━━━━━━━━━━━━━━━━━\u001b[0m\u001b[37m\u001b[0m \u001b[1m0s\u001b[0m 4ms/step - accuracy: 0.9323 - loss: 0.2154 - val_accuracy: 0.9574 - val_loss: 0.1910\n",
            "Epoch 20/100\n",
            "\u001b[1m12/12\u001b[0m \u001b[32m━━━━━━━━━━━━━━━━━━━━\u001b[0m\u001b[37m\u001b[0m \u001b[1m0s\u001b[0m 5ms/step - accuracy: 0.9102 - loss: 0.2307 - val_accuracy: 0.9574 - val_loss: 0.1856\n",
            "Epoch 21/100\n",
            "\u001b[1m12/12\u001b[0m \u001b[32m━━━━━━━━━━━━━━━━━━━━\u001b[0m\u001b[37m\u001b[0m \u001b[1m0s\u001b[0m 4ms/step - accuracy: 0.9272 - loss: 0.2311 - val_accuracy: 0.9574 - val_loss: 0.1807\n",
            "Epoch 22/100\n",
            "\u001b[1m12/12\u001b[0m \u001b[32m━━━━━━━━━━━━━━━━━━━━\u001b[0m\u001b[37m\u001b[0m \u001b[1m0s\u001b[0m 6ms/step - accuracy: 0.9370 - loss: 0.2133 - val_accuracy: 0.9574 - val_loss: 0.1760\n",
            "Epoch 23/100\n",
            "\u001b[1m12/12\u001b[0m \u001b[32m━━━━━━━━━━━━━━━━━━━━\u001b[0m\u001b[37m\u001b[0m \u001b[1m0s\u001b[0m 5ms/step - accuracy: 0.9544 - loss: 0.1877 - val_accuracy: 0.9681 - val_loss: 0.1716\n",
            "Epoch 24/100\n",
            "\u001b[1m12/12\u001b[0m \u001b[32m━━━━━━━━━━━━━━━━━━━━\u001b[0m\u001b[37m\u001b[0m \u001b[1m0s\u001b[0m 6ms/step - accuracy: 0.9449 - loss: 0.2037 - val_accuracy: 0.9681 - val_loss: 0.1676\n",
            "Epoch 25/100\n",
            "\u001b[1m12/12\u001b[0m \u001b[32m━━━━━━━━━━━━━━━━━━━━\u001b[0m\u001b[37m\u001b[0m \u001b[1m0s\u001b[0m 6ms/step - accuracy: 0.9447 - loss: 0.2003 - val_accuracy: 0.9681 - val_loss: 0.1635\n",
            "Epoch 26/100\n",
            "\u001b[1m12/12\u001b[0m \u001b[32m━━━━━━━━━━━━━━━━━━━━\u001b[0m\u001b[37m\u001b[0m \u001b[1m0s\u001b[0m 4ms/step - accuracy: 0.9620 - loss: 0.1834 - val_accuracy: 0.9681 - val_loss: 0.1599\n",
            "Epoch 27/100\n",
            "\u001b[1m12/12\u001b[0m \u001b[32m━━━━━━━━━━━━━━━━━━━━\u001b[0m\u001b[37m\u001b[0m \u001b[1m0s\u001b[0m 4ms/step - accuracy: 0.9447 - loss: 0.1991 - val_accuracy: 0.9681 - val_loss: 0.1565\n",
            "Epoch 28/100\n",
            "\u001b[1m12/12\u001b[0m \u001b[32m━━━━━━━━━━━━━━━━━━━━\u001b[0m\u001b[37m\u001b[0m \u001b[1m0s\u001b[0m 4ms/step - accuracy: 0.9658 - loss: 0.1645 - val_accuracy: 0.9681 - val_loss: 0.1532\n",
            "Epoch 29/100\n",
            "\u001b[1m12/12\u001b[0m \u001b[32m━━━━━━━━━━━━━━━━━━━━\u001b[0m\u001b[37m\u001b[0m \u001b[1m0s\u001b[0m 4ms/step - accuracy: 0.9601 - loss: 0.1841 - val_accuracy: 0.9681 - val_loss: 0.1502\n",
            "Epoch 30/100\n",
            "\u001b[1m12/12\u001b[0m \u001b[32m━━━━━━━━━━━━━━━━━━━━\u001b[0m\u001b[37m\u001b[0m \u001b[1m0s\u001b[0m 5ms/step - accuracy: 0.9562 - loss: 0.2001 - val_accuracy: 0.9681 - val_loss: 0.1473\n",
            "Epoch 31/100\n",
            "\u001b[1m12/12\u001b[0m \u001b[32m━━━━━━━━━━━━━━━━━━━━\u001b[0m\u001b[37m\u001b[0m \u001b[1m0s\u001b[0m 4ms/step - accuracy: 0.9732 - loss: 0.1643 - val_accuracy: 0.9681 - val_loss: 0.1445\n",
            "Epoch 32/100\n",
            "\u001b[1m12/12\u001b[0m \u001b[32m━━━━━━━━━━━━━━━━━━━━\u001b[0m\u001b[37m\u001b[0m \u001b[1m0s\u001b[0m 4ms/step - accuracy: 0.9629 - loss: 0.1672 - val_accuracy: 0.9681 - val_loss: 0.1419\n",
            "Epoch 33/100\n",
            "\u001b[1m12/12\u001b[0m \u001b[32m━━━━━━━━━━━━━━━━━━━━\u001b[0m\u001b[37m\u001b[0m \u001b[1m0s\u001b[0m 6ms/step - accuracy: 0.9658 - loss: 0.1711 - val_accuracy: 0.9681 - val_loss: 0.1393\n",
            "Epoch 34/100\n",
            "\u001b[1m12/12\u001b[0m \u001b[32m━━━━━━━━━━━━━━━━━━━━\u001b[0m\u001b[37m\u001b[0m \u001b[1m0s\u001b[0m 4ms/step - accuracy: 0.9564 - loss: 0.1582 - val_accuracy: 0.9681 - val_loss: 0.1369\n",
            "Epoch 35/100\n",
            "\u001b[1m12/12\u001b[0m \u001b[32m━━━━━━━━━━━━━━━━━━━━\u001b[0m\u001b[37m\u001b[0m \u001b[1m0s\u001b[0m 4ms/step - accuracy: 0.9565 - loss: 0.1929 - val_accuracy: 0.9681 - val_loss: 0.1347\n",
            "Epoch 36/100\n",
            "\u001b[1m12/12\u001b[0m \u001b[32m━━━━━━━━━━━━━━━━━━━━\u001b[0m\u001b[37m\u001b[0m \u001b[1m0s\u001b[0m 4ms/step - accuracy: 0.9602 - loss: 0.1750 - val_accuracy: 0.9681 - val_loss: 0.1325\n",
            "Epoch 37/100\n",
            "\u001b[1m12/12\u001b[0m \u001b[32m━━━━━━━━━━━━━━━━━━━━\u001b[0m\u001b[37m\u001b[0m \u001b[1m0s\u001b[0m 6ms/step - accuracy: 0.9767 - loss: 0.1532 - val_accuracy: 0.9681 - val_loss: 0.1304\n",
            "Epoch 38/100\n",
            "\u001b[1m12/12\u001b[0m \u001b[32m━━━━━━━━━━━━━━━━━━━━\u001b[0m\u001b[37m\u001b[0m \u001b[1m0s\u001b[0m 4ms/step - accuracy: 0.9817 - loss: 0.1375 - val_accuracy: 0.9681 - val_loss: 0.1284\n",
            "Epoch 39/100\n",
            "\u001b[1m12/12\u001b[0m \u001b[32m━━━━━━━━━━━━━━━━━━━━\u001b[0m\u001b[37m\u001b[0m \u001b[1m0s\u001b[0m 5ms/step - accuracy: 0.9735 - loss: 0.1446 - val_accuracy: 0.9681 - val_loss: 0.1265\n",
            "Epoch 40/100\n",
            "\u001b[1m12/12\u001b[0m \u001b[32m━━━━━━━━━━━━━━━━━━━━\u001b[0m\u001b[37m\u001b[0m \u001b[1m0s\u001b[0m 6ms/step - accuracy: 0.9674 - loss: 0.1558 - val_accuracy: 0.9681 - val_loss: 0.1246\n",
            "Epoch 41/100\n",
            "\u001b[1m12/12\u001b[0m \u001b[32m━━━━━━━━━━━━━━━━━━━━\u001b[0m\u001b[37m\u001b[0m \u001b[1m0s\u001b[0m 5ms/step - accuracy: 0.9575 - loss: 0.1795 - val_accuracy: 0.9681 - val_loss: 0.1228\n",
            "Epoch 42/100\n",
            "\u001b[1m12/12\u001b[0m \u001b[32m━━━━━━━━━━━━━━━━━━━━\u001b[0m\u001b[37m\u001b[0m \u001b[1m0s\u001b[0m 4ms/step - accuracy: 0.9687 - loss: 0.1451 - val_accuracy: 0.9734 - val_loss: 0.1211\n",
            "Epoch 43/100\n",
            "\u001b[1m12/12\u001b[0m \u001b[32m━━━━━━━━━━━━━━━━━━━━\u001b[0m\u001b[37m\u001b[0m \u001b[1m0s\u001b[0m 4ms/step - accuracy: 0.9671 - loss: 0.1449 - val_accuracy: 0.9734 - val_loss: 0.1194\n",
            "Epoch 44/100\n",
            "\u001b[1m12/12\u001b[0m \u001b[32m━━━━━━━━━━━━━━━━━━━━\u001b[0m\u001b[37m\u001b[0m \u001b[1m0s\u001b[0m 4ms/step - accuracy: 0.9810 - loss: 0.1391 - val_accuracy: 0.9734 - val_loss: 0.1178\n",
            "Epoch 45/100\n",
            "\u001b[1m12/12\u001b[0m \u001b[32m━━━━━━━━━━━━━━━━━━━━\u001b[0m\u001b[37m\u001b[0m \u001b[1m0s\u001b[0m 6ms/step - accuracy: 0.9728 - loss: 0.1383 - val_accuracy: 0.9734 - val_loss: 0.1163\n",
            "Epoch 46/100\n",
            "\u001b[1m12/12\u001b[0m \u001b[32m━━━━━━━━━━━━━━━━━━━━\u001b[0m\u001b[37m\u001b[0m \u001b[1m0s\u001b[0m 4ms/step - accuracy: 0.9747 - loss: 0.1303 - val_accuracy: 0.9734 - val_loss: 0.1148\n",
            "Epoch 47/100\n",
            "\u001b[1m12/12\u001b[0m \u001b[32m━━━━━━━━━━━━━━━━━━━━\u001b[0m\u001b[37m\u001b[0m \u001b[1m0s\u001b[0m 4ms/step - accuracy: 0.9619 - loss: 0.1468 - val_accuracy: 0.9787 - val_loss: 0.1134\n",
            "Epoch 48/100\n",
            "\u001b[1m12/12\u001b[0m \u001b[32m━━━━━━━━━━━━━━━━━━━━\u001b[0m\u001b[37m\u001b[0m \u001b[1m0s\u001b[0m 5ms/step - accuracy: 0.9723 - loss: 0.1468 - val_accuracy: 0.9787 - val_loss: 0.1120\n",
            "Epoch 49/100\n",
            "\u001b[1m12/12\u001b[0m \u001b[32m━━━━━━━━━━━━━━━━━━━━\u001b[0m\u001b[37m\u001b[0m \u001b[1m0s\u001b[0m 5ms/step - accuracy: 0.9747 - loss: 0.1427 - val_accuracy: 0.9787 - val_loss: 0.1107\n",
            "Epoch 50/100\n",
            "\u001b[1m12/12\u001b[0m \u001b[32m━━━━━━━━━━━━━━━━━━━━\u001b[0m\u001b[37m\u001b[0m \u001b[1m0s\u001b[0m 5ms/step - accuracy: 0.9651 - loss: 0.1345 - val_accuracy: 0.9734 - val_loss: 0.1094\n",
            "Epoch 51/100\n",
            "\u001b[1m12/12\u001b[0m \u001b[32m━━━━━━━━━━━━━━━━━━━━\u001b[0m\u001b[37m\u001b[0m \u001b[1m0s\u001b[0m 5ms/step - accuracy: 0.9726 - loss: 0.1274 - val_accuracy: 0.9734 - val_loss: 0.1081\n",
            "Epoch 52/100\n",
            "\u001b[1m12/12\u001b[0m \u001b[32m━━━━━━━━━━━━━━━━━━━━\u001b[0m\u001b[37m\u001b[0m \u001b[1m0s\u001b[0m 4ms/step - accuracy: 0.9650 - loss: 0.1366 - val_accuracy: 0.9734 - val_loss: 0.1069\n",
            "Epoch 53/100\n",
            "\u001b[1m12/12\u001b[0m \u001b[32m━━━━━━━━━━━━━━━━━━━━\u001b[0m\u001b[37m\u001b[0m \u001b[1m0s\u001b[0m 5ms/step - accuracy: 0.9782 - loss: 0.1212 - val_accuracy: 0.9734 - val_loss: 0.1058\n",
            "Epoch 54/100\n",
            "\u001b[1m12/12\u001b[0m \u001b[32m━━━━━━━━━━━━━━━━━━━━\u001b[0m\u001b[37m\u001b[0m \u001b[1m0s\u001b[0m 4ms/step - accuracy: 0.9653 - loss: 0.1192 - val_accuracy: 0.9734 - val_loss: 0.1046\n",
            "Epoch 55/100\n",
            "\u001b[1m12/12\u001b[0m \u001b[32m━━━━━━━━━━━━━━━━━━━━\u001b[0m\u001b[37m\u001b[0m \u001b[1m0s\u001b[0m 5ms/step - accuracy: 0.9765 - loss: 0.1103 - val_accuracy: 0.9734 - val_loss: 0.1035\n",
            "Epoch 56/100\n",
            "\u001b[1m12/12\u001b[0m \u001b[32m━━━━━━━━━━━━━━━━━━━━\u001b[0m\u001b[37m\u001b[0m \u001b[1m0s\u001b[0m 5ms/step - accuracy: 0.9774 - loss: 0.1253 - val_accuracy: 0.9734 - val_loss: 0.1024\n",
            "Epoch 57/100\n",
            "\u001b[1m12/12\u001b[0m \u001b[32m━━━━━━━━━━━━━━━━━━━━\u001b[0m\u001b[37m\u001b[0m \u001b[1m0s\u001b[0m 4ms/step - accuracy: 0.9651 - loss: 0.1398 - val_accuracy: 0.9734 - val_loss: 0.1015\n",
            "Epoch 58/100\n",
            "\u001b[1m12/12\u001b[0m \u001b[32m━━━━━━━━━━━━━━━━━━━━\u001b[0m\u001b[37m\u001b[0m \u001b[1m0s\u001b[0m 5ms/step - accuracy: 0.9683 - loss: 0.1137 - val_accuracy: 0.9734 - val_loss: 0.1004\n",
            "Epoch 59/100\n",
            "\u001b[1m12/12\u001b[0m \u001b[32m━━━━━━━━━━━━━━━━━━━━\u001b[0m\u001b[37m\u001b[0m \u001b[1m0s\u001b[0m 4ms/step - accuracy: 0.9726 - loss: 0.1442 - val_accuracy: 0.9734 - val_loss: 0.0995\n",
            "Epoch 60/100\n",
            "\u001b[1m12/12\u001b[0m \u001b[32m━━━━━━━━━━━━━━━━━━━━\u001b[0m\u001b[37m\u001b[0m \u001b[1m0s\u001b[0m 5ms/step - accuracy: 0.9667 - loss: 0.1271 - val_accuracy: 0.9734 - val_loss: 0.0985\n",
            "Epoch 61/100\n",
            "\u001b[1m12/12\u001b[0m \u001b[32m━━━━━━━━━━━━━━━━━━━━\u001b[0m\u001b[37m\u001b[0m \u001b[1m0s\u001b[0m 5ms/step - accuracy: 0.9770 - loss: 0.1147 - val_accuracy: 0.9734 - val_loss: 0.0976\n",
            "Epoch 62/100\n",
            "\u001b[1m12/12\u001b[0m \u001b[32m━━━━━━━━━━━━━━━━━━━━\u001b[0m\u001b[37m\u001b[0m \u001b[1m0s\u001b[0m 5ms/step - accuracy: 0.9694 - loss: 0.1442 - val_accuracy: 0.9734 - val_loss: 0.0967\n",
            "Epoch 63/100\n",
            "\u001b[1m12/12\u001b[0m \u001b[32m━━━━━━━━━━━━━━━━━━━━\u001b[0m\u001b[37m\u001b[0m \u001b[1m0s\u001b[0m 6ms/step - accuracy: 0.9690 - loss: 0.1241 - val_accuracy: 0.9734 - val_loss: 0.0959\n",
            "Epoch 64/100\n",
            "\u001b[1m12/12\u001b[0m \u001b[32m━━━━━━━━━━━━━━━━━━━━\u001b[0m\u001b[37m\u001b[0m \u001b[1m0s\u001b[0m 4ms/step - accuracy: 0.9782 - loss: 0.1085 - val_accuracy: 0.9734 - val_loss: 0.0950\n",
            "Epoch 65/100\n",
            "\u001b[1m12/12\u001b[0m \u001b[32m━━━━━━━━━━━━━━━━━━━━\u001b[0m\u001b[37m\u001b[0m \u001b[1m0s\u001b[0m 7ms/step - accuracy: 0.9808 - loss: 0.1035 - val_accuracy: 0.9734 - val_loss: 0.0941\n",
            "Epoch 66/100\n",
            "\u001b[1m12/12\u001b[0m \u001b[32m━━━━━━━━━━━━━━━━━━━━\u001b[0m\u001b[37m\u001b[0m \u001b[1m0s\u001b[0m 4ms/step - accuracy: 0.9664 - loss: 0.1447 - val_accuracy: 0.9787 - val_loss: 0.0933\n",
            "Epoch 67/100\n",
            "\u001b[1m12/12\u001b[0m \u001b[32m━━━━━━━━━━━━━━━━━━━━\u001b[0m\u001b[37m\u001b[0m \u001b[1m0s\u001b[0m 4ms/step - accuracy: 0.9772 - loss: 0.1010 - val_accuracy: 0.9787 - val_loss: 0.0925\n",
            "Epoch 68/100\n",
            "\u001b[1m12/12\u001b[0m \u001b[32m━━━━━━━━━━━━━━━━━━━━\u001b[0m\u001b[37m\u001b[0m \u001b[1m0s\u001b[0m 5ms/step - accuracy: 0.9788 - loss: 0.1144 - val_accuracy: 0.9787 - val_loss: 0.0918\n",
            "Epoch 69/100\n",
            "\u001b[1m12/12\u001b[0m \u001b[32m━━━━━━━━━━━━━━━━━━━━\u001b[0m\u001b[37m\u001b[0m \u001b[1m0s\u001b[0m 4ms/step - accuracy: 0.9748 - loss: 0.1278 - val_accuracy: 0.9787 - val_loss: 0.0910\n",
            "Epoch 70/100\n",
            "\u001b[1m12/12\u001b[0m \u001b[32m━━━━━━━━━━━━━━━━━━━━\u001b[0m\u001b[37m\u001b[0m \u001b[1m0s\u001b[0m 4ms/step - accuracy: 0.9819 - loss: 0.1107 - val_accuracy: 0.9787 - val_loss: 0.0903\n",
            "Epoch 71/100\n",
            "\u001b[1m12/12\u001b[0m \u001b[32m━━━━━━━━━━━━━━━━━━━━\u001b[0m\u001b[37m\u001b[0m \u001b[1m0s\u001b[0m 5ms/step - accuracy: 0.9707 - loss: 0.1139 - val_accuracy: 0.9787 - val_loss: 0.0895\n",
            "Epoch 72/100\n",
            "\u001b[1m12/12\u001b[0m \u001b[32m━━━━━━━━━━━━━━━━━━━━\u001b[0m\u001b[37m\u001b[0m \u001b[1m0s\u001b[0m 4ms/step - accuracy: 0.9782 - loss: 0.1092 - val_accuracy: 0.9787 - val_loss: 0.0889\n",
            "Epoch 73/100\n",
            "\u001b[1m12/12\u001b[0m \u001b[32m━━━━━━━━━━━━━━━━━━━━\u001b[0m\u001b[37m\u001b[0m \u001b[1m0s\u001b[0m 5ms/step - accuracy: 0.9807 - loss: 0.1148 - val_accuracy: 0.9787 - val_loss: 0.0882\n",
            "Epoch 74/100\n",
            "\u001b[1m12/12\u001b[0m \u001b[32m━━━━━━━━━━━━━━━━━━━━\u001b[0m\u001b[37m\u001b[0m \u001b[1m0s\u001b[0m 5ms/step - accuracy: 0.9807 - loss: 0.1024 - val_accuracy: 0.9787 - val_loss: 0.0875\n",
            "Epoch 75/100\n",
            "\u001b[1m12/12\u001b[0m \u001b[32m━━━━━━━━━━━━━━━━━━━━\u001b[0m\u001b[37m\u001b[0m \u001b[1m0s\u001b[0m 5ms/step - accuracy: 0.9754 - loss: 0.1163 - val_accuracy: 0.9840 - val_loss: 0.0868\n",
            "Epoch 76/100\n",
            "\u001b[1m12/12\u001b[0m \u001b[32m━━━━━━━━━━━━━━━━━━━━\u001b[0m\u001b[37m\u001b[0m \u001b[1m0s\u001b[0m 4ms/step - accuracy: 0.9677 - loss: 0.1153 - val_accuracy: 0.9840 - val_loss: 0.0862\n",
            "Epoch 77/100\n",
            "\u001b[1m12/12\u001b[0m \u001b[32m━━━━━━━━━━━━━━━━━━━━\u001b[0m\u001b[37m\u001b[0m \u001b[1m0s\u001b[0m 5ms/step - accuracy: 0.9726 - loss: 0.1156 - val_accuracy: 0.9840 - val_loss: 0.0857\n",
            "Epoch 78/100\n",
            "\u001b[1m12/12\u001b[0m \u001b[32m━━━━━━━━━━━━━━━━━━━━\u001b[0m\u001b[37m\u001b[0m \u001b[1m0s\u001b[0m 4ms/step - accuracy: 0.9648 - loss: 0.1202 - val_accuracy: 0.9840 - val_loss: 0.0850\n",
            "Epoch 79/100\n",
            "\u001b[1m12/12\u001b[0m \u001b[32m━━━━━━━━━━━━━━━━━━━━\u001b[0m\u001b[37m\u001b[0m \u001b[1m0s\u001b[0m 5ms/step - accuracy: 0.9701 - loss: 0.1121 - val_accuracy: 0.9840 - val_loss: 0.0845\n",
            "Epoch 80/100\n",
            "\u001b[1m12/12\u001b[0m \u001b[32m━━━━━━━━━━━━━━━━━━━━\u001b[0m\u001b[37m\u001b[0m \u001b[1m0s\u001b[0m 4ms/step - accuracy: 0.9680 - loss: 0.1354 - val_accuracy: 0.9840 - val_loss: 0.0839\n",
            "Epoch 81/100\n",
            "\u001b[1m12/12\u001b[0m \u001b[32m━━━━━━━━━━━━━━━━━━━━\u001b[0m\u001b[37m\u001b[0m \u001b[1m0s\u001b[0m 5ms/step - accuracy: 0.9612 - loss: 0.1182 - val_accuracy: 0.9840 - val_loss: 0.0833\n",
            "Epoch 82/100\n",
            "\u001b[1m12/12\u001b[0m \u001b[32m━━━━━━━━━━━━━━━━━━━━\u001b[0m\u001b[37m\u001b[0m \u001b[1m0s\u001b[0m 4ms/step - accuracy: 0.9849 - loss: 0.0939 - val_accuracy: 0.9840 - val_loss: 0.0828\n",
            "Epoch 83/100\n",
            "\u001b[1m12/12\u001b[0m \u001b[32m━━━━━━━━━━━━━━━━━━━━\u001b[0m\u001b[37m\u001b[0m \u001b[1m0s\u001b[0m 4ms/step - accuracy: 0.9759 - loss: 0.1111 - val_accuracy: 0.9840 - val_loss: 0.0823\n",
            "Epoch 84/100\n",
            "\u001b[1m12/12\u001b[0m \u001b[32m━━━━━━━━━━━━━━━━━━━━\u001b[0m\u001b[37m\u001b[0m \u001b[1m0s\u001b[0m 4ms/step - accuracy: 0.9788 - loss: 0.1021 - val_accuracy: 0.9840 - val_loss: 0.0817\n",
            "Epoch 85/100\n",
            "\u001b[1m12/12\u001b[0m \u001b[32m━━━━━━━━━━━━━━━━━━━━\u001b[0m\u001b[37m\u001b[0m \u001b[1m0s\u001b[0m 4ms/step - accuracy: 0.9856 - loss: 0.0994 - val_accuracy: 0.9840 - val_loss: 0.0812\n",
            "Epoch 86/100\n",
            "\u001b[1m12/12\u001b[0m \u001b[32m━━━━━━━━━━━━━━━━━━━━\u001b[0m\u001b[37m\u001b[0m \u001b[1m0s\u001b[0m 4ms/step - accuracy: 0.9929 - loss: 0.0864 - val_accuracy: 0.9840 - val_loss: 0.0806\n",
            "Epoch 87/100\n",
            "\u001b[1m12/12\u001b[0m \u001b[32m━━━━━━━━━━━━━━━━━━━━\u001b[0m\u001b[37m\u001b[0m \u001b[1m0s\u001b[0m 6ms/step - accuracy: 0.9911 - loss: 0.0948 - val_accuracy: 0.9840 - val_loss: 0.0802\n",
            "Epoch 88/100\n",
            "\u001b[1m12/12\u001b[0m \u001b[32m━━━━━━━━━━━━━━━━━━━━\u001b[0m\u001b[37m\u001b[0m \u001b[1m0s\u001b[0m 6ms/step - accuracy: 0.9847 - loss: 0.0874 - val_accuracy: 0.9840 - val_loss: 0.0797\n",
            "Epoch 89/100\n",
            "\u001b[1m12/12\u001b[0m \u001b[32m━━━━━━━━━━━━━━━━━━━━\u001b[0m\u001b[37m\u001b[0m \u001b[1m0s\u001b[0m 4ms/step - accuracy: 0.9820 - loss: 0.1110 - val_accuracy: 0.9840 - val_loss: 0.0793\n",
            "Epoch 90/100\n",
            "\u001b[1m12/12\u001b[0m \u001b[32m━━━━━━━━━━━━━━━━━━━━\u001b[0m\u001b[37m\u001b[0m \u001b[1m0s\u001b[0m 4ms/step - accuracy: 0.9810 - loss: 0.1137 - val_accuracy: 0.9840 - val_loss: 0.0788\n",
            "Epoch 91/100\n",
            "\u001b[1m12/12\u001b[0m \u001b[32m━━━━━━━━━━━━━━━━━━━━\u001b[0m\u001b[37m\u001b[0m \u001b[1m0s\u001b[0m 5ms/step - accuracy: 0.9848 - loss: 0.0959 - val_accuracy: 0.9840 - val_loss: 0.0783\n",
            "Epoch 92/100\n",
            "\u001b[1m12/12\u001b[0m \u001b[32m━━━━━━━━━━━━━━━━━━━━\u001b[0m\u001b[37m\u001b[0m \u001b[1m0s\u001b[0m 4ms/step - accuracy: 0.9854 - loss: 0.0967 - val_accuracy: 0.9840 - val_loss: 0.0778\n",
            "Epoch 93/100\n",
            "\u001b[1m12/12\u001b[0m \u001b[32m━━━━━━━━━━━━━━━━━━━━\u001b[0m\u001b[37m\u001b[0m \u001b[1m0s\u001b[0m 5ms/step - accuracy: 0.9824 - loss: 0.1001 - val_accuracy: 0.9840 - val_loss: 0.0775\n",
            "Epoch 94/100\n",
            "\u001b[1m12/12\u001b[0m \u001b[32m━━━━━━━━━━━━━━━━━━━━\u001b[0m\u001b[37m\u001b[0m \u001b[1m0s\u001b[0m 4ms/step - accuracy: 0.9833 - loss: 0.0970 - val_accuracy: 0.9840 - val_loss: 0.0771\n",
            "Epoch 95/100\n",
            "\u001b[1m12/12\u001b[0m \u001b[32m━━━━━━━━━━━━━━━━━━━━\u001b[0m\u001b[37m\u001b[0m \u001b[1m0s\u001b[0m 10ms/step - accuracy: 0.9773 - loss: 0.1111 - val_accuracy: 0.9840 - val_loss: 0.0766\n",
            "Epoch 96/100\n",
            "\u001b[1m12/12\u001b[0m \u001b[32m━━━━━━━━━━━━━━━━━━━━\u001b[0m\u001b[37m\u001b[0m \u001b[1m0s\u001b[0m 13ms/step - accuracy: 0.9804 - loss: 0.0995 - val_accuracy: 0.9840 - val_loss: 0.0762\n",
            "Epoch 97/100\n",
            "\u001b[1m12/12\u001b[0m \u001b[32m━━━━━━━━━━━━━━━━━━━━\u001b[0m\u001b[37m\u001b[0m \u001b[1m0s\u001b[0m 12ms/step - accuracy: 0.9734 - loss: 0.1182 - val_accuracy: 0.9840 - val_loss: 0.0758\n",
            "Epoch 98/100\n",
            "\u001b[1m12/12\u001b[0m \u001b[32m━━━━━━━━━━━━━━━━━━━━\u001b[0m\u001b[37m\u001b[0m \u001b[1m0s\u001b[0m 34ms/step - accuracy: 0.9931 - loss: 0.0899 - val_accuracy: 0.9840 - val_loss: 0.0754\n",
            "Epoch 99/100\n",
            "\u001b[1m12/12\u001b[0m \u001b[32m━━━━━━━━━━━━━━━━━━━━\u001b[0m\u001b[37m\u001b[0m \u001b[1m0s\u001b[0m 15ms/step - accuracy: 0.9781 - loss: 0.1089 - val_accuracy: 0.9840 - val_loss: 0.0751\n",
            "Epoch 100/100\n",
            "\u001b[1m12/12\u001b[0m \u001b[32m━━━━━━━━━━━━━━━━━━━━\u001b[0m\u001b[37m\u001b[0m \u001b[1m0s\u001b[0m 16ms/step - accuracy: 0.9918 - loss: 0.0841 - val_accuracy: 0.9840 - val_loss: 0.0746\n",
            "\u001b[1m12/12\u001b[0m \u001b[32m━━━━━━━━━━━━━━━━━━━━\u001b[0m\u001b[37m\u001b[0m \u001b[1m0s\u001b[0m 4ms/step - accuracy: 0.9803 - loss: 0.1113  \n",
            "Train score: [0.09800933301448822, 0.9842519760131836]\n",
            "\u001b[1m6/6\u001b[0m \u001b[32m━━━━━━━━━━━━━━━━━━━━\u001b[0m\u001b[37m\u001b[0m \u001b[1m0s\u001b[0m 4ms/step - accuracy: 0.9925 - loss: 0.0733  \n",
            "Test score: [0.07464136183261871, 0.9840425252914429]\n"
          ]
        }
      ]
    },
    {
      "cell_type": "markdown",
      "source": [
        "# Explanation of the Training data fit.transform vs. Test transform (only)\n",
        "The idea is that when you fit the StandardScaler on the training data, you calculate the mean and standard deviation of the training distribution, then transform both the training and test data using those parameters.\n",
        "\n",
        "The test data is transformed under the assumption that it should follow a similar distribution as the training data, even if it's never used to calculate the scaler's parameters.\n",
        "\n",
        "--------------------------\n",
        "##Key Concepts:\n",
        "Fitting the scaler on the training data adjusts it to the characteristics of the training set’s distribution.\n",
        "\n",
        "The goal is to bring the training data into a standard normal distribution (mean = 0, standard deviation = 1).\n",
        "\n",
        "Transforming the test data using the same parameters (mean and standard deviation from the training set) assumes that the test data should be drawn from a similar distribution.\n",
        "\n",
        "This lets you evaluate how well your model generalizes to new, unseen data.\n",
        "\n",
        "------------------------\n",
        "##Relationship to Loss:\n",
        "###Low loss:\n",
        "If the test data follows a distribution similar to the training data, the model performs well.\n",
        "\n",
        "This typically leads to lower errors, or \"loss,\" when the model makes predictions on the test data.\n",
        "\n",
        "This suggests that the data is consistent and that the model can generalize effectively.\n",
        "\n",
        "###High loss:\n",
        "\n",
        "If the test data's distribution is significantly different (e.g., different means or variances), the model may struggle to make accurate predictions because the test data hasn't been transformed in a way that aligns with the distribution on which the model was trained.\n",
        "\n",
        "This results in higher loss, indicating poor model performance on the test set.\n",
        "\n",
        "--------------------------------\n",
        "#Why Only Transform the Test Data:\n",
        "By only transforming and not fitting the test data, you ensure that the test set remains \"unseen.\"\n",
        "\n",
        "This prevents data leakage, where information from the test set could influence the model’s performance, which would give a false sense of how well the model is generalizing.\n",
        "\n",
        "------------------------\n",
        "#In summary\n",
        "\n",
        "You fit and transform the training data to bring it into a standard normal distribution.\n",
        "\n",
        "You only transform the test data, assuming it follows a similar distribution, to evaluate model performance.\n",
        "\n",
        "If the distributions between the training and test sets are too different, you'll likely see a higher loss, indicating a potential mismatch between the training data and the real-world data you're trying to predict on.\n",
        "\n",
        "---------------------\n",
        "-------------------------\n",
        "#Note:\n",
        " TensorFlow does not typically use cross-entropy to measure the difference between the training and test data distributions.\n",
        "\n",
        " Cross-entropy is generally used to measure the performance of classification models, comparing the predicted probability distribution over classes with the actual (ground truth) class distribution.\n",
        "\n",
        "To measure the difference in the distributions between the training and test data, more appropriate methods might include:\n",
        "\n",
        "-----------------\n",
        "##Kullback-Leibler (KL) Divergence:\n",
        "\n",
        "KL Divergence is a measure of how one probability distribution differs from another.\n",
        "\n",
        "It’s sometimes used to quantify the difference between two distributions, including training vs. test data.\n",
        "\n",
        "-------------------------------\n",
        "##Wasserstein Distance (or Earth Mover's Distance):\n",
        "\n",
        "This measures how much work is needed to transform one distribution into another.\n",
        "\n",
        "It's another common way to measure distributional differences.\n",
        "\n",
        "The Kolmogorov-Smirnov (K-S) test is a non-parametric statistical test that measures the difference between the empirical distributions of two samples.\n",
        "\n",
        "It's often used to compare whether two datasets follow the same distribution, or to compare one dataset to a reference distribution (e.g., a normal distribution).\n",
        "\n",
        "##How It Works:\n",
        "The K-S test compares the cumulative distribution functions (CDFs) of two datasets.\n",
        "\n",
        "In simpler terms, it checks how far apart the two distributions are at any point along the range of values.\n",
        "\n",
        "If the distributions are similar, the CDFs should be close together.\n",
        "\n",
        "##The K-S test outputs:\n",
        "\n",
        "D-statistic: The maximum difference between the CDFs of the two datasets.\n",
        "\n",
        "P-value: A value that tells us whether the difference is statistically significant.\n",
        "\n",
        "A small p-value (typically < 0.05) suggests that the two distributions are different.\n",
        "\n",
        "===============================================================\n",
        "##Example:\n",
        "Imagine you have the following distributions of house sizes (square footage) in your training and test datasets.\n",
        "\n",
        "Training Set (in square feet):\n",
        "\n",
        "   [1000,1200,1500,1800,2000,2200,2500]\n",
        "Test Set (in square feet):\n",
        "\n",
        "   [1100,1300,1600,1700,1900,2100,2400]\n",
        "We want to compare whether these two sets of house sizes follow the same distribution. The K-S test will:\n",
        "\n",
        "Calculate the cumulative distribution for both the training and test sets.\n",
        "\n",
        "The cumulative distribution function (CDF) tells you, for any given value, the proportion of data points that are less than or equal to that value.\n",
        "\n",
        "Compare the maximum difference between the CDFs of the two sets.\n",
        "===============================================================\n",
        "##Steps in the K-S Test:\n",
        "###Create the CDFs:\n",
        "\n",
        "Training Set CDF: At each point, calculate the proportion of training data points that are less than or equal to that point.\n",
        "\n",
        "##est Set CDF:\n",
        "Do the same for the test data.\n",
        "\n",
        "##Calculate the D-statistic:\n",
        "\n",
        "The D-statistic is the largest vertical distance between the CDFs of the training and test data.\n",
        "\n",
        "##Calculate the P-value:\n",
        "\n",
        "This value will indicate if the two distributions are significantly different or not.\n",
        "\n",
        "A small p-value (e.g., < 0.05) suggests that the test set has a different distribution than the training set.\n",
        "\n",
        "===============================================================\n",
        "##Intuition Behind the K-S Test:\n",
        "If the two datasets have similar CDFs, their distributions are likely similar.\n",
        "\n",
        "If there’s a large gap between the CDFs, the distributions are likely different. For example:\n",
        "\n",
        "If the training set has mostly smaller houses and the test set has mostly larger houses, the CDFs will show this difference.\n",
        "\n",
        "The K-S test highlights the point where the difference between the two CDFs is the greatest, helping us understand where the distributions differ the most.\n",
        "\n",
        "##Application in Machine Learning:\n",
        "You can use the K-S test to check whether the feature distributions (e.g., house size, age, income, etc.) in the training data and test data are similar.\n",
        "\n",
        "If the distributions are very different, this could be a sign that your model may not generalize well to unseen data, leading to higher loss or poor performance.\n",
        "\n",
        "=============================================================\n",
        "##Example Calculation:\n",
        "Let’s say after running the K-S test on the house sizes above, we get:\n",
        "\n",
        "    D-statistic = 0.1\n",
        "    P-value = 0.8\n",
        "Since the p-value is high, we can conclude that the distributions of house sizes in the training and test sets are not significantly different, meaning they likely come from the same distribution.\n",
        "\n",
        "====================\n",
        "##Summary of the K-S Test:\n",
        "It compares two datasets by measuring the maximum difference between their cumulative distributions.\n",
        "\n",
        "The D-statistic quantifies this difference.\n",
        "\n",
        "The p-value indicates if the difference is statistically significant.\n",
        "\n",
        "It’s useful in ML to check if the feature distributions in the training and test sets are similar, helping you understand how well your model might generalize.\n",
        "--------------------------------\n",
        "##Statistical Tests:\n",
        "\n",
        "You can use statistical tests like the Kolmogorov-Smirnov (K-S) test to compare the training and test distributions.\n",
        "\n",
        "The K-S test measures how well two samples follow the same distribution.\n",
        "\n",
        "----------------------------------\n",
        "##Cross-Entropy:\n",
        "In the context of classification tasks, cross-entropy measures the difference between the predicted probability distribution and the true label distribution (usually in one-hot encoding).\n",
        "\n",
        "It's not used for comparing the overall feature distributions of the training and test datasets.\n",
        "\n",
        "###Why Not Cross-Entropy for Distribution Comparison?\n",
        "Cross-entropy is specifically about comparing class probabilities for classification problems, rather than comparing continuous feature distributions.\n",
        "\n",
        "If you want to see how similar the distributions of features are (e.g., feature values of the training vs. test data), cross-entropy wouldn't be appropriate.\n",
        "\n",
        "If you are looking for ways to measure whether your feature distributions between the training and test sets are similar, techniques like KL divergence or other statistical approaches would be better suited."
      ],
      "metadata": {
        "id": "7tHSlLdbh48g"
      }
    },
    {
      "cell_type": "code",
      "source": [
        "# Plot what's returned by model.fit()\n",
        "import matplotlib.pyplot as plt\n",
        "plt.plot(r.history['loss'], label='loss')\n",
        "plt.plot(r.history['val_loss'], label='val_loss')\n",
        "plt.legend()"
      ],
      "metadata": {
        "colab": {
          "base_uri": "https://localhost:8080/",
          "height": 447
        },
        "id": "vSwaFmYxZiBJ",
        "outputId": "a5f5d070-c287-4306-d2c3-29e6d6af61ea"
      },
      "execution_count": 7,
      "outputs": [
        {
          "output_type": "execute_result",
          "data": {
            "text/plain": [
              "<matplotlib.legend.Legend at 0x7bc3f813d8d0>"
            ]
          },
          "metadata": {},
          "execution_count": 7
        },
        {
          "output_type": "display_data",
          "data": {
            "text/plain": [
              "<Figure size 640x480 with 1 Axes>"
            ],
            "image/png": "[encoded data removed]"
          },
          "metadata": {}
        }
      ]
    },
    {
      "cell_type": "markdown",
      "source": [],
      "metadata": {
        "id": "C5oQM5vJa7_9"
      }
    },
    {
      "cell_type": "code",
      "source": [
        "# Plot the accuracy too\n",
        "plt.plot(r.history['accuracy'], label='acc')\n",
        "plt.plot(r.history['val_accuracy'], label='val_acc')\n",
        "plt.legend()"
      ],
      "metadata": {
        "colab": {
          "base_uri": "https://localhost:8080/",
          "height": 447
        },
        "id": "zS7rUhkfZpCs",
        "outputId": "20212967-f68d-4100-fa9b-04f9e2822e0a"
      },
      "execution_count": 8,
      "outputs": [
        {
          "output_type": "execute_result",
          "data": {
            "text/plain": [
              "<matplotlib.legend.Legend at 0x7bc3f265a710>"
            ]
          },
          "metadata": {},
          "execution_count": 8
        },
        {
          "output_type": "display_data",
          "data": {
            "text/plain": [
              "<Figure size 640x480 with 1 Axes>"
            ],
            "image/png": "[encoded data removed]"
          },
          "metadata": {}
        }
      ]
    },
    {
      "cell_type": "markdown",
      "source": [
        "# Part 2: Making Predictions"
      ],
      "metadata": {
        "id": "MnjqpdABZwOl"
      }
    },
    {
      "cell_type": "code",
      "source": [
        "# Make predictions\n",
        "P = model.predict(X_test)\n",
        "print(P) # they are outputs of the sigmoid, interpreted as probabilities p(y = 1 | x)"
      ],
      "metadata": {
        "colab": {
          "base_uri": "https://localhost:8080/"
        },
        "id": "zN9yej1nZyti",
        "outputId": "21e9703e-c8b3-44da-eadd-7219584082ef"
      },
      "execution_count": 9,
      "outputs": [
        {
          "output_type": "stream",
          "name": "stdout",
          "text": [
            "\u001b[1m6/6\u001b[0m \u001b[32m━━━━━━━━━━━━━━━━━━━━\u001b[0m\u001b[37m\u001b[0m \u001b[1m0s\u001b[0m 5ms/step \n",
            "[[3.7548458e-04]\n",
            " [8.5585529e-01]\n",
            " [9.9871057e-01]\n",
            " [9.8985416e-01]\n",
            " [9.9883157e-01]\n",
            " [1.9471997e-07]\n",
            " [7.4313866e-06]\n",
            " [6.7185269e-05]\n",
            " [9.4724792e-01]\n",
            " [9.9284726e-01]\n",
            " [9.9135768e-01]\n",
            " [6.3395059e-01]\n",
            " [9.8374426e-01]\n",
            " [8.7804681e-01]\n",
            " [9.7994465e-01]\n",
            " [9.4565672e-01]\n",
            " [5.5422192e-04]\n",
            " [9.7245592e-01]\n",
            " [9.9003494e-01]\n",
            " [9.7773856e-01]\n",
            " [9.8810667e-01]\n",
            " [9.4765204e-01]\n",
            " [2.2893542e-01]\n",
            " [7.2845817e-01]\n",
            " [9.8440534e-01]\n",
            " [9.1397667e-01]\n",
            " [1.3168381e-01]\n",
            " [9.8111570e-01]\n",
            " [9.7859663e-01]\n",
            " [7.1615221e-05]\n",
            " [4.7807419e-01]\n",
            " [9.9370617e-01]\n",
            " [9.9606192e-01]\n",
            " [9.9716443e-01]\n",
            " [2.8712919e-01]\n",
            " [1.9681139e-04]\n",
            " [2.5540647e-01]\n",
            " [8.3050656e-04]\n",
            " [8.7470818e-01]\n",
            " [9.9717993e-01]\n",
            " [9.5819664e-01]\n",
            " [9.7916293e-01]\n",
            " [1.9874751e-04]\n",
            " [1.4447814e-01]\n",
            " [5.6468845e-05]\n",
            " [9.5728076e-01]\n",
            " [9.9890524e-01]\n",
            " [9.8630768e-01]\n",
            " [9.6447676e-01]\n",
            " [4.2373142e-03]\n",
            " [1.7530780e-02]\n",
            " [9.9837279e-01]\n",
            " [9.6562707e-01]\n",
            " [8.9555109e-01]\n",
            " [8.3385223e-01]\n",
            " [6.7195028e-01]\n",
            " [9.9944252e-01]\n",
            " [3.2817018e-03]\n",
            " [7.8663945e-01]\n",
            " [9.9683857e-01]\n",
            " [9.7707886e-01]\n",
            " [4.8350748e-02]\n",
            " [9.9562043e-01]\n",
            " [3.8947571e-02]\n",
            " [9.3907475e-01]\n",
            " [3.7927215e-08]\n",
            " [3.7934724e-02]\n",
            " [1.0430014e-04]\n",
            " [1.7004706e-04]\n",
            " [9.9847484e-01]\n",
            " [9.9099457e-01]\n",
            " [1.7308157e-03]\n",
            " [6.1062234e-03]\n",
            " [8.3300406e-01]\n",
            " [9.9696237e-01]\n",
            " [9.8584431e-01]\n",
            " [1.9781448e-01]\n",
            " [9.7945976e-01]\n",
            " [3.3849090e-05]\n",
            " [1.0419487e-04]\n",
            " [8.9219308e-01]\n",
            " [9.9983549e-01]\n",
            " [9.9589407e-01]\n",
            " [9.7564310e-01]\n",
            " [6.5892341e-06]\n",
            " [9.9912900e-01]\n",
            " [2.8702039e-01]\n",
            " [9.3259460e-01]\n",
            " [9.6628827e-01]\n",
            " [7.0500947e-03]\n",
            " [9.9085182e-01]\n",
            " [3.2699265e-04]\n",
            " [1.4435011e-01]\n",
            " [7.9179103e-05]\n",
            " [9.9255610e-01]\n",
            " [2.3329702e-07]\n",
            " [9.8745251e-01]\n",
            " [7.7057976e-01]\n",
            " [6.2029692e-04]\n",
            " [9.9640322e-01]\n",
            " [9.6529257e-01]\n",
            " [1.7304806e-02]\n",
            " [9.8403519e-01]\n",
            " [8.2631866e-03]\n",
            " [1.9004669e-03]\n",
            " [9.5089608e-01]\n",
            " [8.6788738e-01]\n",
            " [9.9315119e-01]\n",
            " [9.4667923e-01]\n",
            " [9.9910682e-01]\n",
            " [9.9716473e-01]\n",
            " [2.9903991e-02]\n",
            " [7.4389011e-01]\n",
            " [8.3404892e-09]\n",
            " [9.6021968e-01]\n",
            " [8.6319908e-02]\n",
            " [4.8992798e-02]\n",
            " [6.3835466e-01]\n",
            " [8.7304938e-01]\n",
            " [9.5949250e-01]\n",
            " [9.9877298e-01]\n",
            " [9.9533319e-01]\n",
            " [3.7986487e-02]\n",
            " [1.7917890e-02]\n",
            " [9.9905205e-01]\n",
            " [8.6126518e-01]\n",
            " [9.9496567e-01]\n",
            " [9.0858126e-01]\n",
            " [6.6224076e-02]\n",
            " [9.1655599e-04]\n",
            " [2.1962523e-03]\n",
            " [9.9843115e-01]\n",
            " [9.9634105e-01]\n",
            " [9.9986321e-01]\n",
            " [8.8667250e-01]\n",
            " [9.7449869e-01]\n",
            " [9.8992831e-01]\n",
            " [9.6352786e-01]\n",
            " [4.5690136e-03]\n",
            " [9.8839909e-01]\n",
            " [9.9084026e-01]\n",
            " [9.9542862e-01]\n",
            " [1.7327623e-04]\n",
            " [9.6689683e-01]\n",
            " [2.2658227e-02]\n",
            " [9.9866498e-01]\n",
            " [8.1819929e-09]\n",
            " [9.9431002e-01]\n",
            " [9.9334365e-01]\n",
            " [9.9273419e-01]\n",
            " [5.4140266e-05]\n",
            " [9.9837422e-01]\n",
            " [8.2591589e-04]\n",
            " [7.8093159e-01]\n",
            " [9.5441842e-01]\n",
            " [3.3192021e-06]\n",
            " [8.5210299e-01]\n",
            " [9.7281057e-01]\n",
            " [9.0541333e-01]\n",
            " [9.9891090e-01]\n",
            " [9.8663068e-01]\n",
            " [9.7724754e-01]\n",
            " [9.2739588e-01]\n",
            " [9.7108179e-01]\n",
            " [2.5797196e-04]\n",
            " [6.5124404e-01]\n",
            " [8.6198491e-04]\n",
            " [8.6198163e-01]\n",
            " [9.8591298e-01]\n",
            " [9.9877065e-01]\n",
            " [3.8348188e-04]\n",
            " [3.0116986e-02]\n",
            " [9.4486976e-01]\n",
            " [4.5546246e-01]\n",
            " [9.9818414e-01]\n",
            " [9.9163914e-01]\n",
            " [6.0705247e-04]\n",
            " [3.9094690e-02]\n",
            " [6.3659335e-03]\n",
            " [9.9956632e-01]\n",
            " [9.5265496e-01]\n",
            " [9.7861439e-02]\n",
            " [3.0020711e-01]\n",
            " [2.6841745e-02]\n",
            " [9.1754395e-01]\n",
            " [8.8183939e-01]\n",
            " [9.9286199e-01]\n",
            " [9.9284470e-01]]\n"
          ]
        }
      ]
    },
    {
      "cell_type": "code",
      "source": [
        "# Round to get the actual predictions\n",
        "# Note: has to be flattened since the targets are size (N,) while the predictions are size (N,1)\n",
        "import numpy as np\n",
        "P = np.round(P).flatten()\n",
        "print(P)"
      ],
      "metadata": {
        "colab": {
          "base_uri": "https://localhost:8080/"
        },
        "id": "8jRHX1QHZ8A1",
        "outputId": "362a3f75-db8e-468f-ff48-e552d13e0a3d"
      },
      "execution_count": 10,
      "outputs": [
        {
          "output_type": "stream",
          "name": "stdout",
          "text": [
            "[0. 1. 1. 1. 1. 0. 0. 0. 1. 1. 1. 1. 1. 1. 1. 1. 0. 1. 1. 1. 1. 1. 0. 1.\n",
            " 1. 1. 0. 1. 1. 0. 0. 1. 1. 1. 0. 0. 0. 0. 1. 1. 1. 1. 0. 0. 0. 1. 1. 1.\n",
            " 1. 0. 0. 1. 1. 1. 1. 1. 1. 0. 1. 1. 1. 0. 1. 0. 1. 0. 0. 0. 0. 1. 1. 0.\n",
            " 0. 1. 1. 1. 0. 1. 0. 0. 1. 1. 1. 1. 0. 1. 0. 1. 1. 0. 1. 0. 0. 0. 1. 0.\n",
            " 1. 1. 0. 1. 1. 0. 1. 0. 0. 1. 1. 1. 1. 1. 1. 0. 1. 0. 1. 0. 0. 1. 1. 1.\n",
            " 1. 1. 0. 0. 1. 1. 1. 1. 0. 0. 0. 1. 1. 1. 1. 1. 1. 1. 0. 1. 1. 1. 0. 1.\n",
            " 0. 1. 0. 1. 1. 1. 0. 1. 0. 1. 1. 0. 1. 1. 1. 1. 1. 1. 1. 1. 0. 1. 0. 1.\n",
            " 1. 1. 0. 0. 1. 0. 1. 1. 0. 0. 0. 1. 1. 0. 0. 0. 1. 1. 1. 1.]\n"
          ]
        }
      ]
    },
    {
      "cell_type": "code",
      "source": [
        "# Calculate the accuracy, compare it to evaluate() output\n",
        "print(\"Manually calculated accuracy:\", np.mean(P == y_test))\n",
        "print(\"Evaluate output:\", model.evaluate(X_test, y_test))"
      ],
      "metadata": {
        "colab": {
          "base_uri": "https://localhost:8080/"
        },
        "id": "Q1OeCKhCaAxi",
        "outputId": "3f430d0d-a77b-47ee-c524-4824826c3414"
      },
      "execution_count": 11,
      "outputs": [
        {
          "output_type": "stream",
          "name": "stdout",
          "text": [
            "Manually calculated accuracy: 0.9840425531914894\n",
            "\u001b[1m6/6\u001b[0m \u001b[32m━━━━━━━━━━━━━━━━━━━━\u001b[0m\u001b[37m\u001b[0m \u001b[1m0s\u001b[0m 3ms/step - accuracy: 0.9925 - loss: 0.0733 \n",
            "Evaluate output: [0.07464136183261871, 0.9840425252914429]\n"
          ]
        }
      ]
    },
    {
      "cell_type": "markdown",
      "source": [
        "# Part 3: Saving and Loading a Model"
      ],
      "metadata": {
        "id": "8xghCfK2aF7L"
      }
    },
    {
      "cell_type": "code",
      "source": [
        "# Let's now save our model to a file\n",
        "model.save('linearclassifier.h5')\n",
        "# Check that the model file exists\n",
        "!ls -lh linearclassifier.h5\n",
        "\n",
        "# Let's load the model and confirm that it still works\n",
        "# Note: there is a bug in Keras where load/save only works if you DON'T use the Input() layer explicitly\n",
        "# So, make sure you define the model with ONLY Dense(1, input_shape=(D,))\n",
        "# At least, until the bug is fixed\n",
        "# https://github.com/keras-team/keras/issues/10417\n",
        "\n",
        "model = tf.keras.models.load_model('linearclassifier.h5')\n",
        "print(model.layers)\n",
        "model.evaluate(X_test, y_test)"
      ],
      "metadata": {
        "colab": {
          "base_uri": "https://localhost:8080/"
        },
        "id": "Q1OGXmqpaH-5",
        "outputId": "66cb3e23-b882-40e5-83bb-185bea5ac6ba"
      },
      "execution_count": 13,
      "outputs": [
        {
          "output_type": "stream",
          "name": "stderr",
          "text": [
            "WARNING:absl:You are saving your model as an HDF5 file via `model.save()` or `keras.saving.save_model(model)`. This file format is considered legacy. We recommend using instead the native Keras format, e.g. `model.save('my_model.keras')` or `keras.saving.save_model(model, 'my_model.keras')`. \n"
          ]
        },
        {
          "output_type": "stream",
          "name": "stdout",
          "text": [
            "-rw-r--r-- 1 root root 18K Sep 25 18:19 linearclassifier.h5\n"
          ]
        },
        {
          "output_type": "stream",
          "name": "stderr",
          "text": [
            "WARNING:absl:Compiled the loaded model, but the compiled metrics have yet to be built. `model.compile_metrics` will be empty until you train or evaluate the model.\n"
          ]
        },
        {
          "output_type": "stream",
          "name": "stdout",
          "text": [
            "[<Dense name=dense, built=True>]\n",
            "\u001b[1m6/6\u001b[0m \u001b[32m━━━━━━━━━━━━━━━━━━━━\u001b[0m\u001b[37m\u001b[0m \u001b[1m0s\u001b[0m 2ms/step - accuracy: 0.9925 - loss: 0.0733  \n"
          ]
        },
        {
          "output_type": "execute_result",
          "data": {
            "text/plain": [
              "[0.07464136183261871, 0.9840425252914429]"
            ]
          },
          "metadata": {},
          "execution_count": 13
        }
      ]
    },
    {
      "cell_type": "markdown",
      "source": [],
      "metadata": {
        "id": "2bRjrkUea7qi"
      }
    },
    {
      "cell_type": "markdown",
      "source": [],
      "metadata": {
        "id": "yuQJaO2Oa6VR"
      }
    },
    {
      "cell_type": "code",
      "source": [
        "# Download the file - requires Chrome (at this point)\n",
        "from google.colab import files\n",
        "files.download('linearclassifier.h5')"
      ],
      "metadata": {
        "colab": {
          "base_uri": "https://localhost:8080/",
          "height": 17
        },
        "id": "KV0bsEf9aXvW",
        "outputId": "32df6221-36af-407d-bbfc-dc4e659c1f6a"
      },
      "execution_count": 14,
      "outputs": [
        {
          "output_type": "display_data",
          "data": {
            "text/plain": [
              "<IPython.core.display.Javascript object>"
            ],
            "application/javascript": [
              "\n",
              "    async function download(id, filename, size) {\n",
              "      if (!google.colab.kernel.accessAllowed) {\n",
              "        return;\n",
              "      }\n",
              "      const div = document.createElement('div');\n",
              "      const label = document.createElement('label');\n",
              "      label.textContent = `Downloading \"${filename}\": `;\n",
              "      div.appendChild(label);\n",
              "      const progress = document.createElement('progress');\n",
              "      progress.max = size;\n",
              "      div.appendChild(progress);\n",
              "      document.body.appendChild(div);\n",
              "\n",
              "      const buffers = [];\n",
              "      let downloaded = 0;\n",
              "\n",
              "      const channel = await google.colab.kernel.comms.open(id);\n",
              "      // Send a message to notify the kernel that we're ready.\n",
              "      channel.send({})\n",
              "\n",
              "      for await (const message of channel.messages) {\n",
              "        // Send a message to notify the kernel that we're ready.\n",
              "        channel.send({})\n",
              "        if (message.buffers) {\n",
              "          for (const buffer of message.buffers) {\n",
              "            buffers.push(buffer);\n",
              "            downloaded += buffer.byteLength;\n",
              "            progress.value = downloaded;\n",
              "          }\n",
              "        }\n",
              "      }\n",
              "      const blob = new Blob(buffers, {type: 'application/binary'});\n",
              "      const a = document.createElement('a');\n",
              "      a.href = window.URL.createObjectURL(blob);\n",
              "      a.download = filename;\n",
              "      div.appendChild(a);\n",
              "      a.click();\n",
              "      div.remove();\n",
              "    }\n",
              "  "
            ]
          },
          "metadata": {}
        },
        {
          "output_type": "display_data",
          "data": {
            "text/plain": [
              "<IPython.core.display.Javascript object>"
            ],
            "application/javascript": [
              "download(\"download_d65715b8-f929-4813-a74d-d694b9e9b532\", \"linearclassifier.h5\", 17960)"
            ]
          },
          "metadata": {}
        }
      ]
    }
  ]
}